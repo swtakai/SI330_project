{
 "cells": [
  {
   "cell_type": "code",
   "execution_count": 90,
   "metadata": {},
   "outputs": [],
   "source": [
    "import pandas as pd\n",
    "import numpy as np\n",
    "import pandas.api.types as types"
   ]
  },
  {
   "cell_type": "code",
   "execution_count": 91,
   "metadata": {},
   "outputs": [],
   "source": [
    "income = pd.read_csv('DataFrames/income.csv')\n",
    "life_expectancy = pd.read_csv('DataFrames/life_expectancy.csv')\n",
    "merged = pd.read_csv('DataFrames/merged.csv')\n",
    "michigan_df = pd.read_csv('DataFrames/michigan.csv')"
   ]
  },
  {
   "cell_type": "code",
   "execution_count": 92,
   "metadata": {},
   "outputs": [],
   "source": [
    "def test_income():\n",
    "    assert types.is_int64_dtype(income['Median Household Income']) == True #checks that the Median Household Income is an integer/numerical\n",
    "test_income()"
   ]
  },
  {
   "cell_type": "code",
   "execution_count": 93,
   "metadata": {},
   "outputs": [],
   "source": [
    "def test_life_expectance():\n",
    "    assert len(life_expectancy['Name'][0].split(',')[1]) > 2 #checks that the state name is not abbreviated\n",
    "    assert types.is_float_dtype(life_expectancy['Life Expectancy']) == True #checks that life expectancy is a float\n",
    "test_life_expectance()"
   ]
  },
  {
   "cell_type": "code",
   "execution_count": 94,
   "metadata": {},
   "outputs": [],
   "source": [
    "def check_michigan():\n",
    "    assert (michigan_df[michigan_df['Name'] =='Clare County, Michigan']['Classification'].iloc[0]) == 'Rural' #checks that it correctly classified as Rural\n",
    "    assert (michigan_df[michigan_df['Name'] =='Washtenaw County, Michigan']['Classification'].iloc[0]) == 'Urban'#checks that it correctly classified as Urban\n",
    "    assert len(michigan_df[~michigan_df['Name'].str.contains('Michigan', regex=False)]) == 0 #checks that all entries are Michigan counties\n",
    "check_michigan()"
   ]
  },
  {
   "cell_type": "code",
   "execution_count": null,
   "metadata": {},
   "outputs": [],
   "source": []
  }
 ],
 "metadata": {
  "kernelspec": {
   "display_name": "Python 3",
   "language": "python",
   "name": "python3"
  },
  "language_info": {
   "codemirror_mode": {
    "name": "ipython",
    "version": 3
   },
   "file_extension": ".py",
   "mimetype": "text/x-python",
   "name": "python",
   "nbconvert_exporter": "python",
   "pygments_lexer": "ipython3",
   "version": "3.7.3"
  }
 },
 "nbformat": 4,
 "nbformat_minor": 4
}
